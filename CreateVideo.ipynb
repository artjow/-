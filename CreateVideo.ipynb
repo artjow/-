{
  "nbformat": 4,
  "nbformat_minor": 0,
  "metadata": {
    "accelerator": "GPU",
    "colab": {
      "name": "CreateVideo.ipynb",
      "provenance": [],
      "collapsed_sections": [],
      "machine_shape": "hm",
      "authorship_tag": "ABX9TyPmPPrCjT+CPqS/GMktUiWg",
      "include_colab_link": true
    },
    "kernelspec": {
      "display_name": "Python 3",
      "name": "python3"
    },
    "language_info": {
      "name": "python"
    }
  },
  "cells": [
    {
      "cell_type": "markdown",
      "metadata": {
        "id": "view-in-github",
        "colab_type": "text"
      },
      "source": [
        "<a href=\"https://colab.research.google.com/github/artjow/-/blob/main/CreateVideo.ipynb\" target=\"_parent\"><img src=\"https://colab.research.google.com/assets/colab-badge.svg\" alt=\"Open In Colab\"/></a>"
      ]
    },
    {
      "cell_type": "code",
      "metadata": {
        "colab": {
          "base_uri": "https://localhost:8080/"
        },
        "id": "MjdJC9fzERsZ",
        "outputId": "8e69d1ed-024b-4d4d-a337-bb53bc5dc324"
      },
      "source": [
        "from google.colab import drive\n",
        "drive.mount('/content/drive')"
      ],
      "execution_count": null,
      "outputs": [
        {
          "output_type": "stream",
          "name": "stdout",
          "text": [
            "Drive already mounted at /content/drive; to attempt to forcibly remount, call drive.mount(\"/content/drive\", force_remount=True).\n"
          ]
        }
      ]
    },
    {
      "cell_type": "code",
      "metadata": {
        "id": "JQSyGuFrE0Ti"
      },
      "source": [
        "import os\n",
        "import shutil\n",
        "\n",
        "BASE_DIR = \"/content/drive/MyDrive/art_2021/0915_YHL_Transfer_S03/00001-0915_YHL_S03-mirror-auto1-ada-target0.6-resumecustom\"\n",
        "OUT_DIR = \"/content/drive/MyDrive/art_2021/result_Create_Video\"\n",
        "NET_START_NUM = 0\n",
        "NET_END_NUM = 120 #마지막이미지번호적기\n",
        "NET_STEP = 12 #이미지 저장 텀(예; 12.png, 24.png면 12STEP)\n",
        "NET_START_SEED_NUM = 1\n",
        "NET_END_SEED_NUM = 2\n",
        "NET_FPS = 5"
      ],
      "execution_count": null,
      "outputs": []
    },
    {
      "cell_type": "code",
      "metadata": {
        "id": "UMgv2XSyE0QV"
      },
      "source": [
        "# for idx in range(NET_START_NUM, NET_END_NUM+NET_STEP, NET_STEP):\n",
        "#   file_name = \"network-snapshot-{:06d}.pkl\".format(idx)\n",
        "#   print(os.path.join(BASE_DIR, file_name))"
      ],
      "execution_count": null,
      "outputs": []
    },
    {
      "cell_type": "code",
      "metadata": {
        "colab": {
          "base_uri": "https://localhost:8080/"
        },
        "id": "BizRq03BE0WS",
        "outputId": "e41c0c0b-a002-4121-96d7-6b7f26b6dd83"
      },
      "source": [
        "pip install torch==1.7.1+cu110 torchvision==0.8.2+cu110 torchaudio==0.7.2 -f https://download.pytorch.org/whl/torch_stable.html"
      ],
      "execution_count": null,
      "outputs": [
        {
          "output_type": "stream",
          "name": "stdout",
          "text": [
            "Looking in links: https://download.pytorch.org/whl/torch_stable.html\n",
            "Requirement already satisfied: torch==1.7.1+cu110 in /usr/local/lib/python3.7/dist-packages (1.7.1+cu110)\n",
            "Requirement already satisfied: torchvision==0.8.2+cu110 in /usr/local/lib/python3.7/dist-packages (0.8.2+cu110)\n",
            "Requirement already satisfied: torchaudio==0.7.2 in /usr/local/lib/python3.7/dist-packages (0.7.2)\n",
            "Requirement already satisfied: typing-extensions in /usr/local/lib/python3.7/dist-packages (from torch==1.7.1+cu110) (3.7.4.3)\n",
            "Requirement already satisfied: numpy in /usr/local/lib/python3.7/dist-packages (from torch==1.7.1+cu110) (1.19.5)\n",
            "Requirement already satisfied: pillow>=4.1.1 in /usr/local/lib/python3.7/dist-packages (from torchvision==0.8.2+cu110) (7.1.2)\n"
          ]
        }
      ]
    },
    {
      "cell_type": "code",
      "metadata": {
        "colab": {
          "base_uri": "https://localhost:8080/"
        },
        "id": "XEBI3FJBE0ZL",
        "outputId": "ae1701e5-db3a-4b3e-9258-83d127f21a52"
      },
      "source": [
        "pip install click requests tqdm pyspng ninja imageio-ffmpeg==0.4.3"
      ],
      "execution_count": null,
      "outputs": [
        {
          "output_type": "stream",
          "name": "stdout",
          "text": [
            "Requirement already satisfied: click in /usr/local/lib/python3.7/dist-packages (7.1.2)\n",
            "Requirement already satisfied: requests in /usr/local/lib/python3.7/dist-packages (2.23.0)\n",
            "Requirement already satisfied: tqdm in /usr/local/lib/python3.7/dist-packages (4.62.3)\n",
            "Requirement already satisfied: pyspng in /usr/local/lib/python3.7/dist-packages (0.1.0)\n",
            "Requirement already satisfied: ninja in /usr/local/lib/python3.7/dist-packages (1.10.2.2)\n",
            "Requirement already satisfied: imageio-ffmpeg==0.4.3 in /usr/local/lib/python3.7/dist-packages (0.4.3)\n",
            "Requirement already satisfied: certifi>=2017.4.17 in /usr/local/lib/python3.7/dist-packages (from requests) (2021.5.30)\n",
            "Requirement already satisfied: urllib3!=1.25.0,!=1.25.1,<1.26,>=1.21.1 in /usr/local/lib/python3.7/dist-packages (from requests) (1.24.3)\n",
            "Requirement already satisfied: chardet<4,>=3.0.2 in /usr/local/lib/python3.7/dist-packages (from requests) (3.0.4)\n",
            "Requirement already satisfied: idna<3,>=2.5 in /usr/local/lib/python3.7/dist-packages (from requests) (2.10)\n",
            "Requirement already satisfied: numpy in /usr/local/lib/python3.7/dist-packages (from pyspng) (1.19.5)\n"
          ]
        }
      ]
    },
    {
      "cell_type": "code",
      "metadata": {
        "colab": {
          "base_uri": "https://localhost:8080/"
        },
        "id": "Kam3vo83E0bq",
        "outputId": "d0d13365-1c79-4afd-cf54-3c889df0ace2"
      },
      "source": [
        "!git clone https://github.com/NVlabs/stylegan2-ada-pytorch.git"
      ],
      "execution_count": null,
      "outputs": [
        {
          "output_type": "stream",
          "name": "stdout",
          "text": [
            "fatal: destination path 'stylegan2-ada-pytorch' already exists and is not an empty directory.\n"
          ]
        }
      ]
    },
    {
      "cell_type": "code",
      "metadata": {
        "id": "b526IjnBGIsl"
      },
      "source": [
        "with open(\"/content/create.sh\", \"w\") as f:\n",
        "  for idx in range(NET_START_NUM, NET_END_NUM+NET_STEP, NET_STEP):\n",
        "    file_name = \"network-snapshot-{:06d}.pkl\".format(idx)\n",
        "    out_dir_name = \"out_{}\".format(int(idx/NET_STEP))\n",
        "    data_path = os.path.join(BASE_DIR, file_name)\n",
        "    output_path = os.path.join(OUT_DIR, out_dir_name)\n",
        "    \n",
        "    create_sh = 'python stylegan2-ada-pytorch/generate.py --outdir=\"{}\" --trunc=0.7 --seeds={}-{} --network=\"{}\"\\n'.format(output_path, NET_START_SEED_NUM, NET_END_SEED_NUM, data_path)\n",
        "    f.write(create_sh)\n",
        "\n",
        "    # print(create_sh)\n"
      ],
      "execution_count": null,
      "outputs": []
    },
    {
      "cell_type": "code",
      "metadata": {
        "colab": {
          "base_uri": "https://localhost:8080/"
        },
        "id": "i2Oz9R-NHgho",
        "outputId": "55795f1a-9cbf-4e16-c476-a8e8396b57d6"
      },
      "source": [
        "!sh create.sh"
      ],
      "execution_count": null,
      "outputs": [
        {
          "output_type": "stream",
          "name": "stdout",
          "text": [
            "Loading networks from \"/content/drive/MyDrive/art_2021/0915_YHL_Transfer_S03/00001-0915_YHL_S03-mirror-auto1-ada-target0.6-resumecustom/network-snapshot-000000.pkl\"...\n",
            "Generating image for seed 1 (0/2) ...\n",
            "Setting up PyTorch plugin \"bias_act_plugin\"... Done.\n",
            "Setting up PyTorch plugin \"upfirdn2d_plugin\"... Done.\n",
            "Generating image for seed 2 (1/2) ...\n",
            "Loading networks from \"/content/drive/MyDrive/art_2021/0915_YHL_Transfer_S03/00001-0915_YHL_S03-mirror-auto1-ada-target0.6-resumecustom/network-snapshot-000012.pkl\"...\n",
            "Generating image for seed 1 (0/2) ...\n",
            "Setting up PyTorch plugin \"bias_act_plugin\"... Done.\n",
            "Setting up PyTorch plugin \"upfirdn2d_plugin\"... Done.\n",
            "Generating image for seed 2 (1/2) ...\n",
            "Loading networks from \"/content/drive/MyDrive/art_2021/0915_YHL_Transfer_S03/00001-0915_YHL_S03-mirror-auto1-ada-target0.6-resumecustom/network-snapshot-000024.pkl\"...\n",
            "Generating image for seed 1 (0/2) ...\n",
            "Setting up PyTorch plugin \"bias_act_plugin\"... Done.\n",
            "Setting up PyTorch plugin \"upfirdn2d_plugin\"... Done.\n",
            "Generating image for seed 2 (1/2) ...\n",
            "Loading networks from \"/content/drive/MyDrive/art_2021/0915_YHL_Transfer_S03/00001-0915_YHL_S03-mirror-auto1-ada-target0.6-resumecustom/network-snapshot-000036.pkl\"...\n",
            "Generating image for seed 1 (0/2) ...\n",
            "Setting up PyTorch plugin \"bias_act_plugin\"... Done.\n",
            "Setting up PyTorch plugin \"upfirdn2d_plugin\"... Done.\n",
            "Generating image for seed 2 (1/2) ...\n",
            "Loading networks from \"/content/drive/MyDrive/art_2021/0915_YHL_Transfer_S03/00001-0915_YHL_S03-mirror-auto1-ada-target0.6-resumecustom/network-snapshot-000048.pkl\"...\n",
            "Generating image for seed 1 (0/2) ...\n",
            "Setting up PyTorch plugin \"bias_act_plugin\"... Done.\n",
            "Setting up PyTorch plugin \"upfirdn2d_plugin\"... Done.\n",
            "Generating image for seed 2 (1/2) ...\n",
            "Loading networks from \"/content/drive/MyDrive/art_2021/0915_YHL_Transfer_S03/00001-0915_YHL_S03-mirror-auto1-ada-target0.6-resumecustom/network-snapshot-000060.pkl\"...\n",
            "Generating image for seed 1 (0/2) ...\n",
            "Setting up PyTorch plugin \"bias_act_plugin\"... Done.\n",
            "Setting up PyTorch plugin \"upfirdn2d_plugin\"... Done.\n",
            "Generating image for seed 2 (1/2) ...\n",
            "Loading networks from \"/content/drive/MyDrive/art_2021/0915_YHL_Transfer_S03/00001-0915_YHL_S03-mirror-auto1-ada-target0.6-resumecustom/network-snapshot-000072.pkl\"...\n",
            "Generating image for seed 1 (0/2) ...\n",
            "Setting up PyTorch plugin \"bias_act_plugin\"... Done.\n",
            "Setting up PyTorch plugin \"upfirdn2d_plugin\"... Done.\n",
            "Generating image for seed 2 (1/2) ...\n",
            "Loading networks from \"/content/drive/MyDrive/art_2021/0915_YHL_Transfer_S03/00001-0915_YHL_S03-mirror-auto1-ada-target0.6-resumecustom/network-snapshot-000084.pkl\"...\n",
            "Generating image for seed 1 (0/2) ...\n",
            "Setting up PyTorch plugin \"bias_act_plugin\"... Done.\n",
            "Setting up PyTorch plugin \"upfirdn2d_plugin\"... Done.\n",
            "Generating image for seed 2 (1/2) ...\n",
            "Loading networks from \"/content/drive/MyDrive/art_2021/0915_YHL_Transfer_S03/00001-0915_YHL_S03-mirror-auto1-ada-target0.6-resumecustom/network-snapshot-000096.pkl\"...\n",
            "Generating image for seed 1 (0/2) ...\n",
            "Setting up PyTorch plugin \"bias_act_plugin\"... Done.\n",
            "Setting up PyTorch plugin \"upfirdn2d_plugin\"... Done.\n",
            "Generating image for seed 2 (1/2) ...\n",
            "Loading networks from \"/content/drive/MyDrive/art_2021/0915_YHL_Transfer_S03/00001-0915_YHL_S03-mirror-auto1-ada-target0.6-resumecustom/network-snapshot-000108.pkl\"...\n",
            "Generating image for seed 1 (0/2) ...\n",
            "Setting up PyTorch plugin \"bias_act_plugin\"... Done.\n",
            "Setting up PyTorch plugin \"upfirdn2d_plugin\"... Done.\n",
            "Generating image for seed 2 (1/2) ...\n",
            "Loading networks from \"/content/drive/MyDrive/art_2021/0915_YHL_Transfer_S03/00001-0915_YHL_S03-mirror-auto1-ada-target0.6-resumecustom/network-snapshot-000120.pkl\"...\n",
            "Generating image for seed 1 (0/2) ...\n",
            "Setting up PyTorch plugin \"bias_act_plugin\"... Done.\n",
            "Setting up PyTorch plugin \"upfirdn2d_plugin\"... Done.\n",
            "Generating image for seed 2 (1/2) ...\n"
          ]
        }
      ]
    },
    {
      "cell_type": "code",
      "metadata": {
        "id": "AcXKB5D0GIxr"
      },
      "source": [
        "# ffmpeg -r 30 -i ./image/robot_0_insect_%d.png -vcodec libx264 output_3.mp4"
      ],
      "execution_count": null,
      "outputs": []
    },
    {
      "cell_type": "code",
      "metadata": {
        "id": "9F9AsKWrGI0j"
      },
      "source": [
        "with open(\"/content/create_video.sh\", \"w\") as f:\n",
        "  for s_idx in range(NET_START_SEED_NUM, NET_END_SEED_NUM+1):\n",
        "    result_dir = os.path.join(OUT_DIR, \"result_video_{}\".format(s_idx))\n",
        "    if not os.path.exists(result_dir):\n",
        "      os.makedirs(result_dir)\n",
        "\n",
        "    for idx in range(NET_START_NUM, NET_END_NUM+NET_STEP, NET_STEP):\n",
        "      out_dir_name = os.path.join(OUT_DIR, \"out_{}\".format(int(idx/NET_STEP)))\n",
        "      src_file = os.path.join(out_dir_name, \"seed{:04d}.png\".format(s_idx))\n",
        "      dst_file = os.path.join(result_dir, \"seed_{}.png\".format(int(idx/NET_STEP)))\n",
        "      shutil.move(src_file, dst_file)\n",
        "      # print(src_file, dst_file)\n",
        "    \n",
        "    create_video_sh = 'ffmpeg -r {} -i \"{}/seed_%d.png\" -vcodec libx264 {}/video_{}.mp4\\n'.format(NET_FPS, result_dir, result_dir, s_idx)\n",
        "    f.write(create_video_sh)\n",
        "    # print(create_video_sh)"
      ],
      "execution_count": null,
      "outputs": []
    },
    {
      "cell_type": "code",
      "metadata": {
        "colab": {
          "base_uri": "https://localhost:8080/"
        },
        "id": "1GXX3u5iGI3b",
        "outputId": "782c14f1-36e9-41ad-8ced-ee9a74b6aac6"
      },
      "source": [
        "!sh create_video.sh"
      ],
      "execution_count": null,
      "outputs": [
        {
          "output_type": "stream",
          "name": "stdout",
          "text": [
            "ffmpeg version 3.4.8-0ubuntu0.2 Copyright (c) 2000-2020 the FFmpeg developers\n",
            "  built with gcc 7 (Ubuntu 7.5.0-3ubuntu1~18.04)\n",
            "  configuration: --prefix=/usr --extra-version=0ubuntu0.2 --toolchain=hardened --libdir=/usr/lib/x86_64-linux-gnu --incdir=/usr/include/x86_64-linux-gnu --enable-gpl --disable-stripping --enable-avresample --enable-avisynth --enable-gnutls --enable-ladspa --enable-libass --enable-libbluray --enable-libbs2b --enable-libcaca --enable-libcdio --enable-libflite --enable-libfontconfig --enable-libfreetype --enable-libfribidi --enable-libgme --enable-libgsm --enable-libmp3lame --enable-libmysofa --enable-libopenjpeg --enable-libopenmpt --enable-libopus --enable-libpulse --enable-librubberband --enable-librsvg --enable-libshine --enable-libsnappy --enable-libsoxr --enable-libspeex --enable-libssh --enable-libtheora --enable-libtwolame --enable-libvorbis --enable-libvpx --enable-libwavpack --enable-libwebp --enable-libx265 --enable-libxml2 --enable-libxvid --enable-libzmq --enable-libzvbi --enable-omx --enable-openal --enable-opengl --enable-sdl2 --enable-libdc1394 --enable-libdrm --enable-libiec61883 --enable-chromaprint --enable-frei0r --enable-libopencv --enable-libx264 --enable-shared\n",
            "  libavutil      55. 78.100 / 55. 78.100\n",
            "  libavcodec     57.107.100 / 57.107.100\n",
            "  libavformat    57. 83.100 / 57. 83.100\n",
            "  libavdevice    57. 10.100 / 57. 10.100\n",
            "  libavfilter     6.107.100 /  6.107.100\n",
            "  libavresample   3.  7.  0 /  3.  7.  0\n",
            "  libswscale      4.  8.100 /  4.  8.100\n",
            "  libswresample   2.  9.100 /  2.  9.100\n",
            "  libpostproc    54.  7.100 / 54.  7.100\n",
            "Input #0, image2, from '/content/drive/MyDrive/art_2021/result_Create_Video/result_video_1/seed_%d.png':\n",
            "  Duration: 00:00:00.44, start: 0.000000, bitrate: N/A\n",
            "    Stream #0:0: Video: png, rgb24(pc), 1024x1024, 25 fps, 25 tbr, 25 tbn, 25 tbc\n",
            "Stream mapping:\n",
            "  Stream #0:0 -> #0:0 (png (native) -> h264 (libx264))\n",
            "Press [q] to stop, [?] for help\n",
            "\u001b[1;36m[libx264 @ 0x562f07f1fe00] \u001b[0musing cpu capabilities: MMX2 SSE2Fast SSSE3 SSE4.2 AVX FMA3 BMI2 AVX2 AVX512\n",
            "\u001b[1;36m[libx264 @ 0x562f07f1fe00] \u001b[0mprofile High 4:4:4 Predictive, level 3.2, 4:4:4 8-bit\n",
            "\u001b[1;36m[libx264 @ 0x562f07f1fe00] \u001b[0m264 - core 152 r2854 e9a5903 - H.264/MPEG-4 AVC codec - Copyleft 2003-2017 - http://www.videolan.org/x264.html - options: cabac=1 ref=3 deblock=1:0:0 analyse=0x1:0x111 me=hex subme=7 psy=1 psy_rd=1.00:0.00 mixed_ref=1 me_range=16 chroma_me=1 trellis=1 8x8dct=0 cqm=0 deadzone=21,11 fast_pskip=1 chroma_qp_offset=4 threads=12 lookahead_threads=2 sliced_threads=0 nr=0 decimate=1 interlaced=0 bluray_compat=0 constrained_intra=0 bframes=3 b_pyramid=2 b_adapt=1 b_bias=0 direct=1 weightb=1 open_gop=0 weightp=2 keyint=250 keyint_min=5 scenecut=40 intra_refresh=0 rc_lookahead=40 rc=crf mbtree=1 crf=23.0 qcomp=0.60 qpmin=0 qpmax=69 qpstep=4 ip_ratio=1.40 aq=1:1.00\n",
            "Output #0, mp4, to '/content/drive/MyDrive/art_2021/result_Create_Video/result_video_1/video_1.mp4':\n",
            "  Metadata:\n",
            "    encoder         : Lavf57.83.100\n",
            "    Stream #0:0: Video: h264 (libx264) (avc1 / 0x31637661), yuv444p, 1024x1024, q=-1--1, 5 fps, 10240 tbn, 5 tbc\n",
            "    Metadata:\n",
            "      encoder         : Lavc57.107.100 libx264\n",
            "    Side data:\n",
            "      cpb: bitrate max/min/avg: 0/0/0 buffer size: 0 vbv_delay: -1\n",
            "frame=   11 fps=0.0 q=-1.0 Lsize=     963kB time=00:00:01.60 bitrate=4930.3kbits/s speed=2.75x    \n",
            "video:962kB audio:0kB subtitle:0kB other streams:0kB global headers:0kB muxing overhead: 0.096837%\n",
            "\u001b[1;36m[libx264 @ 0x562f07f1fe00] \u001b[0mframe I:2     Avg QP:18.75  size:117154\n",
            "\u001b[1;36m[libx264 @ 0x562f07f1fe00] \u001b[0mframe P:5     Avg QP:20.12  size: 98067\n",
            "\u001b[1;36m[libx264 @ 0x562f07f1fe00] \u001b[0mframe B:4     Avg QP:20.03  size: 64956\n",
            "\u001b[1;36m[libx264 @ 0x562f07f1fe00] \u001b[0mconsecutive B-frames: 45.5% 18.2%  0.0% 36.4%\n",
            "\u001b[1;36m[libx264 @ 0x562f07f1fe00] \u001b[0mmb I  I16..4: 23.1%  0.0% 76.9%\n",
            "\u001b[1;36m[libx264 @ 0x562f07f1fe00] \u001b[0mmb P  I16..4: 23.2%  0.0% 46.6%  P16..4: 16.9%  8.0%  4.3%  0.0%  0.0%    skip: 1.0%\n",
            "\u001b[1;36m[libx264 @ 0x562f07f1fe00] \u001b[0mmb B  I16..4: 11.1%  0.0% 17.4%  B16..8: 17.6%  7.0%  3.1%  direct:39.7%  skip: 4.1%  L0:29.8% L1:43.3% BI:26.9%\n",
            "\u001b[1;36m[libx264 @ 0x562f07f1fe00] \u001b[0mcoded y,u,v intra: 96.2% 9.7% 2.6% inter: 76.3% 36.7% 31.9%\n",
            "\u001b[1;36m[libx264 @ 0x562f07f1fe00] \u001b[0mi16 v,h,dc,p: 15%  9% 50% 26%\n",
            "\u001b[1;36m[libx264 @ 0x562f07f1fe00] \u001b[0mi4 v,h,dc,ddl,ddr,vr,hd,vl,hu: 18% 27% 16%  5%  5%  5%  8%  5% 10%\n",
            "\u001b[1;36m[libx264 @ 0x562f07f1fe00] \u001b[0mWeighted P-Frames: Y:80.0% UV:80.0%\n",
            "\u001b[1;36m[libx264 @ 0x562f07f1fe00] \u001b[0mref P L0: 70.0%  3.7% 11.5%  5.8%  9.1%\n",
            "\u001b[1;36m[libx264 @ 0x562f07f1fe00] \u001b[0mref B L0: 77.0% 23.0%\n",
            "\u001b[1;36m[libx264 @ 0x562f07f1fe00] \u001b[0mref B L1: 84.0% 16.0%\n",
            "\u001b[1;36m[libx264 @ 0x562f07f1fe00] \u001b[0mkb/s:3579.89\n",
            "ffmpeg version 3.4.8-0ubuntu0.2 Copyright (c) 2000-2020 the FFmpeg developers\n",
            "  built with gcc 7 (Ubuntu 7.5.0-3ubuntu1~18.04)\n",
            "  configuration: --prefix=/usr --extra-version=0ubuntu0.2 --toolchain=hardened --libdir=/usr/lib/x86_64-linux-gnu --incdir=/usr/include/x86_64-linux-gnu --enable-gpl --disable-stripping --enable-avresample --enable-avisynth --enable-gnutls --enable-ladspa --enable-libass --enable-libbluray --enable-libbs2b --enable-libcaca --enable-libcdio --enable-libflite --enable-libfontconfig --enable-libfreetype --enable-libfribidi --enable-libgme --enable-libgsm --enable-libmp3lame --enable-libmysofa --enable-libopenjpeg --enable-libopenmpt --enable-libopus --enable-libpulse --enable-librubberband --enable-librsvg --enable-libshine --enable-libsnappy --enable-libsoxr --enable-libspeex --enable-libssh --enable-libtheora --enable-libtwolame --enable-libvorbis --enable-libvpx --enable-libwavpack --enable-libwebp --enable-libx265 --enable-libxml2 --enable-libxvid --enable-libzmq --enable-libzvbi --enable-omx --enable-openal --enable-opengl --enable-sdl2 --enable-libdc1394 --enable-libdrm --enable-libiec61883 --enable-chromaprint --enable-frei0r --enable-libopencv --enable-libx264 --enable-shared\n",
            "  libavutil      55. 78.100 / 55. 78.100\n",
            "  libavcodec     57.107.100 / 57.107.100\n",
            "  libavformat    57. 83.100 / 57. 83.100\n",
            "  libavdevice    57. 10.100 / 57. 10.100\n",
            "  libavfilter     6.107.100 /  6.107.100\n",
            "  libavresample   3.  7.  0 /  3.  7.  0\n",
            "  libswscale      4.  8.100 /  4.  8.100\n",
            "  libswresample   2.  9.100 /  2.  9.100\n",
            "  libpostproc    54.  7.100 / 54.  7.100\n",
            "Input #0, image2, from '/content/drive/MyDrive/art_2021/result_Create_Video/result_video_2/seed_%d.png':\n",
            "  Duration: 00:00:00.44, start: 0.000000, bitrate: N/A\n",
            "    Stream #0:0: Video: png, rgb24(pc), 1024x1024, 25 fps, 25 tbr, 25 tbn, 25 tbc\n",
            "Stream mapping:\n",
            "  Stream #0:0 -> #0:0 (png (native) -> h264 (libx264))\n",
            "Press [q] to stop, [?] for help\n",
            "\u001b[1;36m[libx264 @ 0x5599f04a3e00] \u001b[0musing cpu capabilities: MMX2 SSE2Fast SSSE3 SSE4.2 AVX FMA3 BMI2 AVX2 AVX512\n",
            "\u001b[1;36m[libx264 @ 0x5599f04a3e00] \u001b[0mprofile High 4:4:4 Predictive, level 3.2, 4:4:4 8-bit\n",
            "\u001b[1;36m[libx264 @ 0x5599f04a3e00] \u001b[0m264 - core 152 r2854 e9a5903 - H.264/MPEG-4 AVC codec - Copyleft 2003-2017 - http://www.videolan.org/x264.html - options: cabac=1 ref=3 deblock=1:0:0 analyse=0x1:0x111 me=hex subme=7 psy=1 psy_rd=1.00:0.00 mixed_ref=1 me_range=16 chroma_me=1 trellis=1 8x8dct=0 cqm=0 deadzone=21,11 fast_pskip=1 chroma_qp_offset=4 threads=12 lookahead_threads=2 sliced_threads=0 nr=0 decimate=1 interlaced=0 bluray_compat=0 constrained_intra=0 bframes=3 b_pyramid=2 b_adapt=1 b_bias=0 direct=1 weightb=1 open_gop=0 weightp=2 keyint=250 keyint_min=5 scenecut=40 intra_refresh=0 rc_lookahead=40 rc=crf mbtree=1 crf=23.0 qcomp=0.60 qpmin=0 qpmax=69 qpstep=4 ip_ratio=1.40 aq=1:1.00\n",
            "Output #0, mp4, to '/content/drive/MyDrive/art_2021/result_Create_Video/result_video_2/video_2.mp4':\n",
            "  Metadata:\n",
            "    encoder         : Lavf57.83.100\n",
            "    Stream #0:0: Video: h264 (libx264) (avc1 / 0x31637661), yuv444p, 1024x1024, q=-1--1, 5 fps, 10240 tbn, 5 tbc\n",
            "    Metadata:\n",
            "      encoder         : Lavc57.107.100 libx264\n",
            "    Side data:\n",
            "      cpb: bitrate max/min/avg: 0/0/0 buffer size: 0 vbv_delay: -1\n",
            "frame=   11 fps=0.0 q=-1.0 Lsize=     932kB time=00:00:01.60 bitrate=4770.0kbits/s speed=2.61x    \n",
            "video:931kB audio:0kB subtitle:0kB other streams:0kB global headers:0kB muxing overhead: 0.095053%\n",
            "\u001b[1;36m[libx264 @ 0x5599f04a3e00] \u001b[0mframe I:2     Avg QP:19.04  size:108972\n",
            "\u001b[1;36m[libx264 @ 0x5599f04a3e00] \u001b[0mframe P:8     Avg QP:19.95  size: 83284\n",
            "\u001b[1;36m[libx264 @ 0x5599f04a3e00] \u001b[0mframe B:1     Avg QP:20.67  size: 68244\n",
            "\u001b[1;36m[libx264 @ 0x5599f04a3e00] \u001b[0mconsecutive B-frames: 81.8% 18.2%  0.0%  0.0%\n",
            "\u001b[1;36m[libx264 @ 0x5599f04a3e00] \u001b[0mmb I  I16..4: 25.2%  0.0% 74.8%\n",
            "\u001b[1;36m[libx264 @ 0x5599f04a3e00] \u001b[0mmb P  I16..4: 23.0%  0.0% 54.3%  P16..4: 15.5%  4.3%  2.3%  0.0%  0.0%    skip: 0.5%\n",
            "\u001b[1;36m[libx264 @ 0x5599f04a3e00] \u001b[0mmb B  I16..4:  7.3%  0.0% 26.1%  B16..8: 19.6%  6.4%  2.6%  direct:37.0%  skip: 1.0%  L0:60.9% L1:16.4% BI:22.7%\n",
            "\u001b[1;36m[libx264 @ 0x5599f04a3e00] \u001b[0mcoded y,u,v intra: 94.7% 10.7% 3.8% inter: 70.1% 46.5% 21.9%\n",
            "\u001b[1;36m[libx264 @ 0x5599f04a3e00] \u001b[0mi16 v,h,dc,p: 16% 11% 46% 27%\n",
            "\u001b[1;36m[libx264 @ 0x5599f04a3e00] \u001b[0mi4 v,h,dc,ddl,ddr,vr,hd,vl,hu: 17% 32% 15%  5%  5%  4%  8%  4% 10%\n",
            "\u001b[1;36m[libx264 @ 0x5599f04a3e00] \u001b[0mWeighted P-Frames: Y:50.0% UV:50.0%\n",
            "\u001b[1;36m[libx264 @ 0x5599f04a3e00] \u001b[0mref P L0: 79.5%  6.0% 10.0%  4.0%  0.6%\n",
            "\u001b[1;36m[libx264 @ 0x5599f04a3e00] \u001b[0mkb/s:3463.51\n"
          ]
        }
      ]
    }
  ]
}